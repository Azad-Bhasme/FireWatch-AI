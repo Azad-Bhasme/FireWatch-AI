{
 "cells": [
  {
   "cell_type": "markdown",
   "metadata": {},
   "source": [
    "# 🔥 FireWatch AI - Notebook Version\n",
    "**Smart detection, safer protection. 🔥🧠**\n",
    "\n",
    "👋 Created by **Azad Bhasme**\n",
    "📍 Location: Nagpur\n",
    "🔗 GitHub: [Azad-Bhasme](https://github.com/Azad-Bhasme)"
   ]
  },
  {
   "cell_type": "code",
   "metadata": {},
   "execution_count": null,
   "source": [
    "from ultralytics import YOLO\n",
    "model = YOLO('best.pt')\n",
    "results = model.predict(source='fire.jpeg', save=True)\n",
    "results"
   ],
   "outputs": []
  }
 ],
 "metadata": {},
 "nbformat": 4,
 "nbformat_minor": 2
}

